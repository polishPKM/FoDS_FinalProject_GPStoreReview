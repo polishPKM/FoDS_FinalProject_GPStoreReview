{
  "nbformat": 4,
  "nbformat_minor": 0,
  "metadata": {
    "colab": {
      "provenance": [],
      "authorship_tag": "ABX9TyN4yPoGeVSjukFhy4jl21vI",
      "include_colab_link": true
    },
    "kernelspec": {
      "name": "python3",
      "display_name": "Python 3"
    },
    "language_info": {
      "name": "python"
    }
  },
  "cells": [
    {
      "cell_type": "markdown",
      "metadata": {
        "id": "view-in-github",
        "colab_type": "text"
      },
      "source": [
        "<a href=\"https://colab.research.google.com/github/polishPKM/FoDS_FinalProject_GPStoreReview/blob/main/FODS_data_review_pynb.ipynb\" target=\"_parent\"><img src=\"https://colab.research.google.com/assets/colab-badge.svg\" alt=\"Open In Colab\"/></a>"
      ]
    },
    {
      "cell_type": "code",
      "source": [
        "import pandas as pd\n",
        "import numpy as np\n",
        "import ast\n",
        "import re\n",
        "import os\n",
        "import nltk\n",
        "from collections import Counter\n",
        "from sklearn.feature_extraction.text import TfidfVectorizer,CountVectorizer\n",
        "from sklearn.model_selection import train_test_split\n",
        "from sklearn.tree import DecisionTreeClassifier\n",
        "from sklearn.ensemble import RandomForestClassifier\n",
        "from sklearn.naive_bayes import GaussianNB,MultinomialNB\n",
        "from sklearn.svm import SVC\n",
        "from sklearn import metrics\n",
        "import matplotlib.pyplot as plt\n",
        "import warnings\n",
        "\n",
        "from sklearn.model_selection import RandomizedSearchCV,train_test_split,cross_val_score\n",
        "from sklearn.preprocessing import StandardScaler,MinMaxScaler\n",
        "from sklearn.tree import DecisionTreeClassifier\n",
        "from sklearn.linear_model import LogisticRegression\n",
        "from sklearn.neighbors import KNeighborsClassifier\n",
        "from sklearn.ensemble import RandomForestClassifier,GradientBoostingClassifier\n",
        "from sklearn import metrics\n",
        "from sklearn.svm import SVC \n",
        "from sklearn import tree\n",
        "\n",
        "from sklearn.preprocessing import StandardScaler\n",
        "from sklearn.decomposition import PCA\n",
        "\n",
        "from sklearn.pipeline import Pipeline\n",
        "from sklearn.model_selection import GridSearchCV\n",
        "\n",
        "warnings.filterwarnings(action='ignore')\n",
        "import seaborn as sn\n",
        "%matplotlib inline"
      ],
      "metadata": {
        "id": "kqGQRei_2C6d"
      },
      "execution_count": null,
      "outputs": []
    },
    {
      "cell_type": "code",
      "source": [
        "from google.colab import files\n",
        "\n",
        "\n",
        "uploaded = files.upload()\n"
      ],
      "metadata": {
        "colab": {
          "base_uri": "https://localhost:8080/",
          "height": 74
        },
        "id": "X8mNUwFk2Qtz",
        "outputId": "6586258a-a042-405e-a503-72fb2533a4f8"
      },
      "execution_count": null,
      "outputs": [
        {
          "output_type": "display_data",
          "data": {
            "text/plain": [
              "<IPython.core.display.HTML object>"
            ],
            "text/html": [
              "\n",
              "     <input type=\"file\" id=\"files-21017208-e053-42ea-b7f3-6be26f72acea\" name=\"files[]\" multiple disabled\n",
              "        style=\"border:none\" />\n",
              "     <output id=\"result-21017208-e053-42ea-b7f3-6be26f72acea\">\n",
              "      Upload widget is only available when the cell has been executed in the\n",
              "      current browser session. Please rerun this cell to enable.\n",
              "      </output>\n",
              "      <script>// Copyright 2017 Google LLC\n",
              "//\n",
              "// Licensed under the Apache License, Version 2.0 (the \"License\");\n",
              "// you may not use this file except in compliance with the License.\n",
              "// You may obtain a copy of the License at\n",
              "//\n",
              "//      http://www.apache.org/licenses/LICENSE-2.0\n",
              "//\n",
              "// Unless required by applicable law or agreed to in writing, software\n",
              "// distributed under the License is distributed on an \"AS IS\" BASIS,\n",
              "// WITHOUT WARRANTIES OR CONDITIONS OF ANY KIND, either express or implied.\n",
              "// See the License for the specific language governing permissions and\n",
              "// limitations under the License.\n",
              "\n",
              "/**\n",
              " * @fileoverview Helpers for google.colab Python module.\n",
              " */\n",
              "(function(scope) {\n",
              "function span(text, styleAttributes = {}) {\n",
              "  const element = document.createElement('span');\n",
              "  element.textContent = text;\n",
              "  for (const key of Object.keys(styleAttributes)) {\n",
              "    element.style[key] = styleAttributes[key];\n",
              "  }\n",
              "  return element;\n",
              "}\n",
              "\n",
              "// Max number of bytes which will be uploaded at a time.\n",
              "const MAX_PAYLOAD_SIZE = 100 * 1024;\n",
              "\n",
              "function _uploadFiles(inputId, outputId) {\n",
              "  const steps = uploadFilesStep(inputId, outputId);\n",
              "  const outputElement = document.getElementById(outputId);\n",
              "  // Cache steps on the outputElement to make it available for the next call\n",
              "  // to uploadFilesContinue from Python.\n",
              "  outputElement.steps = steps;\n",
              "\n",
              "  return _uploadFilesContinue(outputId);\n",
              "}\n",
              "\n",
              "// This is roughly an async generator (not supported in the browser yet),\n",
              "// where there are multiple asynchronous steps and the Python side is going\n",
              "// to poll for completion of each step.\n",
              "// This uses a Promise to block the python side on completion of each step,\n",
              "// then passes the result of the previous step as the input to the next step.\n",
              "function _uploadFilesContinue(outputId) {\n",
              "  const outputElement = document.getElementById(outputId);\n",
              "  const steps = outputElement.steps;\n",
              "\n",
              "  const next = steps.next(outputElement.lastPromiseValue);\n",
              "  return Promise.resolve(next.value.promise).then((value) => {\n",
              "    // Cache the last promise value to make it available to the next\n",
              "    // step of the generator.\n",
              "    outputElement.lastPromiseValue = value;\n",
              "    return next.value.response;\n",
              "  });\n",
              "}\n",
              "\n",
              "/**\n",
              " * Generator function which is called between each async step of the upload\n",
              " * process.\n",
              " * @param {string} inputId Element ID of the input file picker element.\n",
              " * @param {string} outputId Element ID of the output display.\n",
              " * @return {!Iterable<!Object>} Iterable of next steps.\n",
              " */\n",
              "function* uploadFilesStep(inputId, outputId) {\n",
              "  const inputElement = document.getElementById(inputId);\n",
              "  inputElement.disabled = false;\n",
              "\n",
              "  const outputElement = document.getElementById(outputId);\n",
              "  outputElement.innerHTML = '';\n",
              "\n",
              "  const pickedPromise = new Promise((resolve) => {\n",
              "    inputElement.addEventListener('change', (e) => {\n",
              "      resolve(e.target.files);\n",
              "    });\n",
              "  });\n",
              "\n",
              "  const cancel = document.createElement('button');\n",
              "  inputElement.parentElement.appendChild(cancel);\n",
              "  cancel.textContent = 'Cancel upload';\n",
              "  const cancelPromise = new Promise((resolve) => {\n",
              "    cancel.onclick = () => {\n",
              "      resolve(null);\n",
              "    };\n",
              "  });\n",
              "\n",
              "  // Wait for the user to pick the files.\n",
              "  const files = yield {\n",
              "    promise: Promise.race([pickedPromise, cancelPromise]),\n",
              "    response: {\n",
              "      action: 'starting',\n",
              "    }\n",
              "  };\n",
              "\n",
              "  cancel.remove();\n",
              "\n",
              "  // Disable the input element since further picks are not allowed.\n",
              "  inputElement.disabled = true;\n",
              "\n",
              "  if (!files) {\n",
              "    return {\n",
              "      response: {\n",
              "        action: 'complete',\n",
              "      }\n",
              "    };\n",
              "  }\n",
              "\n",
              "  for (const file of files) {\n",
              "    const li = document.createElement('li');\n",
              "    li.append(span(file.name, {fontWeight: 'bold'}));\n",
              "    li.append(span(\n",
              "        `(${file.type || 'n/a'}) - ${file.size} bytes, ` +\n",
              "        `last modified: ${\n",
              "            file.lastModifiedDate ? file.lastModifiedDate.toLocaleDateString() :\n",
              "                                    'n/a'} - `));\n",
              "    const percent = span('0% done');\n",
              "    li.appendChild(percent);\n",
              "\n",
              "    outputElement.appendChild(li);\n",
              "\n",
              "    const fileDataPromise = new Promise((resolve) => {\n",
              "      const reader = new FileReader();\n",
              "      reader.onload = (e) => {\n",
              "        resolve(e.target.result);\n",
              "      };\n",
              "      reader.readAsArrayBuffer(file);\n",
              "    });\n",
              "    // Wait for the data to be ready.\n",
              "    let fileData = yield {\n",
              "      promise: fileDataPromise,\n",
              "      response: {\n",
              "        action: 'continue',\n",
              "      }\n",
              "    };\n",
              "\n",
              "    // Use a chunked sending to avoid message size limits. See b/62115660.\n",
              "    let position = 0;\n",
              "    do {\n",
              "      const length = Math.min(fileData.byteLength - position, MAX_PAYLOAD_SIZE);\n",
              "      const chunk = new Uint8Array(fileData, position, length);\n",
              "      position += length;\n",
              "\n",
              "      const base64 = btoa(String.fromCharCode.apply(null, chunk));\n",
              "      yield {\n",
              "        response: {\n",
              "          action: 'append',\n",
              "          file: file.name,\n",
              "          data: base64,\n",
              "        },\n",
              "      };\n",
              "\n",
              "      let percentDone = fileData.byteLength === 0 ?\n",
              "          100 :\n",
              "          Math.round((position / fileData.byteLength) * 100);\n",
              "      percent.textContent = `${percentDone}% done`;\n",
              "\n",
              "    } while (position < fileData.byteLength);\n",
              "  }\n",
              "\n",
              "  // All done.\n",
              "  yield {\n",
              "    response: {\n",
              "      action: 'complete',\n",
              "    }\n",
              "  };\n",
              "}\n",
              "\n",
              "scope.google = scope.google || {};\n",
              "scope.google.colab = scope.google.colab || {};\n",
              "scope.google.colab._files = {\n",
              "  _uploadFiles,\n",
              "  _uploadFilesContinue,\n",
              "};\n",
              "})(self);\n",
              "</script> "
            ]
          },
          "metadata": {}
        },
        {
          "output_type": "stream",
          "name": "stdout",
          "text": [
            "Saving reviews.csv to reviews.csv\n"
          ]
        }
      ]
    },
    {
      "cell_type": "code",
      "source": [
        "df = pd.read_csv('/content/reviews.csv')\n",
        "df = df[df['score'].notnull()]\n",
        "df.shape"
      ],
      "metadata": {
        "colab": {
          "base_uri": "https://localhost:8080/"
        },
        "id": "nQxieypI3-ea",
        "outputId": "0065a7c2-623c-4092-adf0-153dcdd45782"
      },
      "execution_count": null,
      "outputs": [
        {
          "output_type": "execute_result",
          "data": {
            "text/plain": [
              "(6469, 12)"
            ]
          },
          "metadata": {},
          "execution_count": 3
        }
      ]
    },
    {
      "cell_type": "code",
      "source": [
        "df.head(2)\n"
      ],
      "metadata": {
        "colab": {
          "base_uri": "https://localhost:8080/",
          "height": 367
        },
        "id": "LPqT3k-R4mEA",
        "outputId": "0056db72-d29b-4dfe-e264-a03f970d9151"
      },
      "execution_count": null,
      "outputs": [
        {
          "output_type": "execute_result",
          "data": {
            "text/plain": [
              "                               reviewId    userName  \\\n",
              "0  133c8b2e-e8c1-48ff-ac05-0208c96d12c3  Lloyd Lian   \n",
              "1  092311a0-9c51-4aec-adc4-c20b16bfedee   Gabby v s   \n",
              "\n",
              "                                           userImage  \\\n",
              "0  https://play-lh.googleusercontent.com/a/AEdFTp...   \n",
              "1  https://play-lh.googleusercontent.com/a-/AD5-W...   \n",
              "\n",
              "                                             content  score  thumbsUpCount  \\\n",
              "0  I really want to play the game. But the contro...      1              2   \n",
              "1  This game was amazing till I got to the point ...      1              4   \n",
              "\n",
              "  reviewCreatedVersion                   at replyContent repliedAt sortOrder  \\\n",
              "0                1.0.3  2022-09-23 13:38:04          NaN       NaN    newest   \n",
              "1                1.0.3  2022-07-31 13:54:11          NaN       NaN    newest   \n",
              "\n",
              "                      appId  \n",
              "0  jp.co.spike_chunsoft.DR1  \n",
              "1  jp.co.spike_chunsoft.DR1  "
            ],
            "text/html": [
              "\n",
              "  <div id=\"df-71947448-cf0c-4f40-b06f-fff7edec1507\">\n",
              "    <div class=\"colab-df-container\">\n",
              "      <div>\n",
              "<style scoped>\n",
              "    .dataframe tbody tr th:only-of-type {\n",
              "        vertical-align: middle;\n",
              "    }\n",
              "\n",
              "    .dataframe tbody tr th {\n",
              "        vertical-align: top;\n",
              "    }\n",
              "\n",
              "    .dataframe thead th {\n",
              "        text-align: right;\n",
              "    }\n",
              "</style>\n",
              "<table border=\"1\" class=\"dataframe\">\n",
              "  <thead>\n",
              "    <tr style=\"text-align: right;\">\n",
              "      <th></th>\n",
              "      <th>reviewId</th>\n",
              "      <th>userName</th>\n",
              "      <th>userImage</th>\n",
              "      <th>content</th>\n",
              "      <th>score</th>\n",
              "      <th>thumbsUpCount</th>\n",
              "      <th>reviewCreatedVersion</th>\n",
              "      <th>at</th>\n",
              "      <th>replyContent</th>\n",
              "      <th>repliedAt</th>\n",
              "      <th>sortOrder</th>\n",
              "      <th>appId</th>\n",
              "    </tr>\n",
              "  </thead>\n",
              "  <tbody>\n",
              "    <tr>\n",
              "      <th>0</th>\n",
              "      <td>133c8b2e-e8c1-48ff-ac05-0208c96d12c3</td>\n",
              "      <td>Lloyd Lian</td>\n",
              "      <td>https://play-lh.googleusercontent.com/a/AEdFTp...</td>\n",
              "      <td>I really want to play the game. But the contro...</td>\n",
              "      <td>1</td>\n",
              "      <td>2</td>\n",
              "      <td>1.0.3</td>\n",
              "      <td>2022-09-23 13:38:04</td>\n",
              "      <td>NaN</td>\n",
              "      <td>NaN</td>\n",
              "      <td>newest</td>\n",
              "      <td>jp.co.spike_chunsoft.DR1</td>\n",
              "    </tr>\n",
              "    <tr>\n",
              "      <th>1</th>\n",
              "      <td>092311a0-9c51-4aec-adc4-c20b16bfedee</td>\n",
              "      <td>Gabby v s</td>\n",
              "      <td>https://play-lh.googleusercontent.com/a-/AD5-W...</td>\n",
              "      <td>This game was amazing till I got to the point ...</td>\n",
              "      <td>1</td>\n",
              "      <td>4</td>\n",
              "      <td>1.0.3</td>\n",
              "      <td>2022-07-31 13:54:11</td>\n",
              "      <td>NaN</td>\n",
              "      <td>NaN</td>\n",
              "      <td>newest</td>\n",
              "      <td>jp.co.spike_chunsoft.DR1</td>\n",
              "    </tr>\n",
              "  </tbody>\n",
              "</table>\n",
              "</div>\n",
              "      <button class=\"colab-df-convert\" onclick=\"convertToInteractive('df-71947448-cf0c-4f40-b06f-fff7edec1507')\"\n",
              "              title=\"Convert this dataframe to an interactive table.\"\n",
              "              style=\"display:none;\">\n",
              "        \n",
              "  <svg xmlns=\"http://www.w3.org/2000/svg\" height=\"24px\"viewBox=\"0 0 24 24\"\n",
              "       width=\"24px\">\n",
              "    <path d=\"M0 0h24v24H0V0z\" fill=\"none\"/>\n",
              "    <path d=\"M18.56 5.44l.94 2.06.94-2.06 2.06-.94-2.06-.94-.94-2.06-.94 2.06-2.06.94zm-11 1L8.5 8.5l.94-2.06 2.06-.94-2.06-.94L8.5 2.5l-.94 2.06-2.06.94zm10 10l.94 2.06.94-2.06 2.06-.94-2.06-.94-.94-2.06-.94 2.06-2.06.94z\"/><path d=\"M17.41 7.96l-1.37-1.37c-.4-.4-.92-.59-1.43-.59-.52 0-1.04.2-1.43.59L10.3 9.45l-7.72 7.72c-.78.78-.78 2.05 0 2.83L4 21.41c.39.39.9.59 1.41.59.51 0 1.02-.2 1.41-.59l7.78-7.78 2.81-2.81c.8-.78.8-2.07 0-2.86zM5.41 20L4 18.59l7.72-7.72 1.47 1.35L5.41 20z\"/>\n",
              "  </svg>\n",
              "      </button>\n",
              "      \n",
              "  <style>\n",
              "    .colab-df-container {\n",
              "      display:flex;\n",
              "      flex-wrap:wrap;\n",
              "      gap: 12px;\n",
              "    }\n",
              "\n",
              "    .colab-df-convert {\n",
              "      background-color: #E8F0FE;\n",
              "      border: none;\n",
              "      border-radius: 50%;\n",
              "      cursor: pointer;\n",
              "      display: none;\n",
              "      fill: #1967D2;\n",
              "      height: 32px;\n",
              "      padding: 0 0 0 0;\n",
              "      width: 32px;\n",
              "    }\n",
              "\n",
              "    .colab-df-convert:hover {\n",
              "      background-color: #E2EBFA;\n",
              "      box-shadow: 0px 1px 2px rgba(60, 64, 67, 0.3), 0px 1px 3px 1px rgba(60, 64, 67, 0.15);\n",
              "      fill: #174EA6;\n",
              "    }\n",
              "\n",
              "    [theme=dark] .colab-df-convert {\n",
              "      background-color: #3B4455;\n",
              "      fill: #D2E3FC;\n",
              "    }\n",
              "\n",
              "    [theme=dark] .colab-df-convert:hover {\n",
              "      background-color: #434B5C;\n",
              "      box-shadow: 0px 1px 3px 1px rgba(0, 0, 0, 0.15);\n",
              "      filter: drop-shadow(0px 1px 2px rgba(0, 0, 0, 0.3));\n",
              "      fill: #FFFFFF;\n",
              "    }\n",
              "  </style>\n",
              "\n",
              "      <script>\n",
              "        const buttonEl =\n",
              "          document.querySelector('#df-71947448-cf0c-4f40-b06f-fff7edec1507 button.colab-df-convert');\n",
              "        buttonEl.style.display =\n",
              "          google.colab.kernel.accessAllowed ? 'block' : 'none';\n",
              "\n",
              "        async function convertToInteractive(key) {\n",
              "          const element = document.querySelector('#df-71947448-cf0c-4f40-b06f-fff7edec1507');\n",
              "          const dataTable =\n",
              "            await google.colab.kernel.invokeFunction('convertToInteractive',\n",
              "                                                     [key], {});\n",
              "          if (!dataTable) return;\n",
              "\n",
              "          const docLinkHtml = 'Like what you see? Visit the ' +\n",
              "            '<a target=\"_blank\" href=https://colab.research.google.com/notebooks/data_table.ipynb>data table notebook</a>'\n",
              "            + ' to learn more about interactive tables.';\n",
              "          element.innerHTML = '';\n",
              "          dataTable['output_type'] = 'display_data';\n",
              "          await google.colab.output.renderOutput(dataTable, element);\n",
              "          const docLink = document.createElement('div');\n",
              "          docLink.innerHTML = docLinkHtml;\n",
              "          element.appendChild(docLink);\n",
              "        }\n",
              "      </script>\n",
              "    </div>\n",
              "  </div>\n",
              "  "
            ]
          },
          "metadata": {},
          "execution_count": 4
        }
      ]
    },
    {
      "cell_type": "code",
      "source": [
        "df['score'].value_counts()\n"
      ],
      "metadata": {
        "colab": {
          "base_uri": "https://localhost:8080/"
        },
        "id": "VdAEOGPE4pjr",
        "outputId": "40bae907-7978-4da1-9eda-b8fd97121bdd"
      },
      "execution_count": null,
      "outputs": [
        {
          "output_type": "execute_result",
          "data": {
            "text/plain": [
              "5    1639\n",
              "4    1320\n",
              "1    1297\n",
              "2    1231\n",
              "3     982\n",
              "Name: score, dtype: int64"
            ]
          },
          "metadata": {},
          "execution_count": 5
        }
      ]
    },
    {
      "cell_type": "code",
      "source": [
        "df.isnull().sum()\n"
      ],
      "metadata": {
        "colab": {
          "base_uri": "https://localhost:8080/"
        },
        "id": "osSKs9ro4tIn",
        "outputId": "6aad480f-c8ae-4535-a25b-ce4c7ad48e35"
      },
      "execution_count": null,
      "outputs": [
        {
          "output_type": "execute_result",
          "data": {
            "text/plain": [
              "reviewId                   0\n",
              "userName                   0\n",
              "userImage                  0\n",
              "content                    1\n",
              "score                      0\n",
              "thumbsUpCount              0\n",
              "reviewCreatedVersion    1605\n",
              "at                         0\n",
              "replyContent            5530\n",
              "repliedAt               5530\n",
              "sortOrder                  0\n",
              "appId                      0\n",
              "dtype: int64"
            ]
          },
          "metadata": {},
          "execution_count": 6
        }
      ]
    },
    {
      "cell_type": "code",
      "source": [
        "use_df = df[['reviewId', 'userName','content', 'score']]\n",
        "use_df.head()"
      ],
      "metadata": {
        "colab": {
          "base_uri": "https://localhost:8080/",
          "height": 206
        },
        "id": "bPZNX4sk41I6",
        "outputId": "b518fda2-0229-4fe6-b585-e2e3b3cc7224"
      },
      "execution_count": null,
      "outputs": [
        {
          "output_type": "execute_result",
          "data": {
            "text/plain": [
              "                               reviewId                            userName  \\\n",
              "0  133c8b2e-e8c1-48ff-ac05-0208c96d12c3                          Lloyd Lian   \n",
              "1  092311a0-9c51-4aec-adc4-c20b16bfedee                           Gabby v s   \n",
              "2  4c2b7ce8-f0e1-4740-a996-3b2010e5181e  Andrej Zivojinovic (Extraordinare)   \n",
              "3  b21bcdf9-53ac-48f3-820c-877ae93bfb99                            Eri Chan   \n",
              "4  9b6d66ae-223c-4974-987e-821389d06ed4                      izuku midoriya   \n",
              "\n",
              "                                             content  score  \n",
              "0  I really want to play the game. But the contro...      1  \n",
              "1  This game was amazing till I got to the point ...      1  \n",
              "2  Will not even start. All I see is Spike Chunso...      1  \n",
              "3  Currently I haven't gotten to play the game si...      1  \n",
              "4               I can't even open the app. Trifling.      1  "
            ],
            "text/html": [
              "\n",
              "  <div id=\"df-230b5db4-7af0-44a4-82e6-121f2e1cb8a3\">\n",
              "    <div class=\"colab-df-container\">\n",
              "      <div>\n",
              "<style scoped>\n",
              "    .dataframe tbody tr th:only-of-type {\n",
              "        vertical-align: middle;\n",
              "    }\n",
              "\n",
              "    .dataframe tbody tr th {\n",
              "        vertical-align: top;\n",
              "    }\n",
              "\n",
              "    .dataframe thead th {\n",
              "        text-align: right;\n",
              "    }\n",
              "</style>\n",
              "<table border=\"1\" class=\"dataframe\">\n",
              "  <thead>\n",
              "    <tr style=\"text-align: right;\">\n",
              "      <th></th>\n",
              "      <th>reviewId</th>\n",
              "      <th>userName</th>\n",
              "      <th>content</th>\n",
              "      <th>score</th>\n",
              "    </tr>\n",
              "  </thead>\n",
              "  <tbody>\n",
              "    <tr>\n",
              "      <th>0</th>\n",
              "      <td>133c8b2e-e8c1-48ff-ac05-0208c96d12c3</td>\n",
              "      <td>Lloyd Lian</td>\n",
              "      <td>I really want to play the game. But the contro...</td>\n",
              "      <td>1</td>\n",
              "    </tr>\n",
              "    <tr>\n",
              "      <th>1</th>\n",
              "      <td>092311a0-9c51-4aec-adc4-c20b16bfedee</td>\n",
              "      <td>Gabby v s</td>\n",
              "      <td>This game was amazing till I got to the point ...</td>\n",
              "      <td>1</td>\n",
              "    </tr>\n",
              "    <tr>\n",
              "      <th>2</th>\n",
              "      <td>4c2b7ce8-f0e1-4740-a996-3b2010e5181e</td>\n",
              "      <td>Andrej Zivojinovic (Extraordinare)</td>\n",
              "      <td>Will not even start. All I see is Spike Chunso...</td>\n",
              "      <td>1</td>\n",
              "    </tr>\n",
              "    <tr>\n",
              "      <th>3</th>\n",
              "      <td>b21bcdf9-53ac-48f3-820c-877ae93bfb99</td>\n",
              "      <td>Eri Chan</td>\n",
              "      <td>Currently I haven't gotten to play the game si...</td>\n",
              "      <td>1</td>\n",
              "    </tr>\n",
              "    <tr>\n",
              "      <th>4</th>\n",
              "      <td>9b6d66ae-223c-4974-987e-821389d06ed4</td>\n",
              "      <td>izuku midoriya</td>\n",
              "      <td>I can't even open the app. Trifling.</td>\n",
              "      <td>1</td>\n",
              "    </tr>\n",
              "  </tbody>\n",
              "</table>\n",
              "</div>\n",
              "      <button class=\"colab-df-convert\" onclick=\"convertToInteractive('df-230b5db4-7af0-44a4-82e6-121f2e1cb8a3')\"\n",
              "              title=\"Convert this dataframe to an interactive table.\"\n",
              "              style=\"display:none;\">\n",
              "        \n",
              "  <svg xmlns=\"http://www.w3.org/2000/svg\" height=\"24px\"viewBox=\"0 0 24 24\"\n",
              "       width=\"24px\">\n",
              "    <path d=\"M0 0h24v24H0V0z\" fill=\"none\"/>\n",
              "    <path d=\"M18.56 5.44l.94 2.06.94-2.06 2.06-.94-2.06-.94-.94-2.06-.94 2.06-2.06.94zm-11 1L8.5 8.5l.94-2.06 2.06-.94-2.06-.94L8.5 2.5l-.94 2.06-2.06.94zm10 10l.94 2.06.94-2.06 2.06-.94-2.06-.94-.94-2.06-.94 2.06-2.06.94z\"/><path d=\"M17.41 7.96l-1.37-1.37c-.4-.4-.92-.59-1.43-.59-.52 0-1.04.2-1.43.59L10.3 9.45l-7.72 7.72c-.78.78-.78 2.05 0 2.83L4 21.41c.39.39.9.59 1.41.59.51 0 1.02-.2 1.41-.59l7.78-7.78 2.81-2.81c.8-.78.8-2.07 0-2.86zM5.41 20L4 18.59l7.72-7.72 1.47 1.35L5.41 20z\"/>\n",
              "  </svg>\n",
              "      </button>\n",
              "      \n",
              "  <style>\n",
              "    .colab-df-container {\n",
              "      display:flex;\n",
              "      flex-wrap:wrap;\n",
              "      gap: 12px;\n",
              "    }\n",
              "\n",
              "    .colab-df-convert {\n",
              "      background-color: #E8F0FE;\n",
              "      border: none;\n",
              "      border-radius: 50%;\n",
              "      cursor: pointer;\n",
              "      display: none;\n",
              "      fill: #1967D2;\n",
              "      height: 32px;\n",
              "      padding: 0 0 0 0;\n",
              "      width: 32px;\n",
              "    }\n",
              "\n",
              "    .colab-df-convert:hover {\n",
              "      background-color: #E2EBFA;\n",
              "      box-shadow: 0px 1px 2px rgba(60, 64, 67, 0.3), 0px 1px 3px 1px rgba(60, 64, 67, 0.15);\n",
              "      fill: #174EA6;\n",
              "    }\n",
              "\n",
              "    [theme=dark] .colab-df-convert {\n",
              "      background-color: #3B4455;\n",
              "      fill: #D2E3FC;\n",
              "    }\n",
              "\n",
              "    [theme=dark] .colab-df-convert:hover {\n",
              "      background-color: #434B5C;\n",
              "      box-shadow: 0px 1px 3px 1px rgba(0, 0, 0, 0.15);\n",
              "      filter: drop-shadow(0px 1px 2px rgba(0, 0, 0, 0.3));\n",
              "      fill: #FFFFFF;\n",
              "    }\n",
              "  </style>\n",
              "\n",
              "      <script>\n",
              "        const buttonEl =\n",
              "          document.querySelector('#df-230b5db4-7af0-44a4-82e6-121f2e1cb8a3 button.colab-df-convert');\n",
              "        buttonEl.style.display =\n",
              "          google.colab.kernel.accessAllowed ? 'block' : 'none';\n",
              "\n",
              "        async function convertToInteractive(key) {\n",
              "          const element = document.querySelector('#df-230b5db4-7af0-44a4-82e6-121f2e1cb8a3');\n",
              "          const dataTable =\n",
              "            await google.colab.kernel.invokeFunction('convertToInteractive',\n",
              "                                                     [key], {});\n",
              "          if (!dataTable) return;\n",
              "\n",
              "          const docLinkHtml = 'Like what you see? Visit the ' +\n",
              "            '<a target=\"_blank\" href=https://colab.research.google.com/notebooks/data_table.ipynb>data table notebook</a>'\n",
              "            + ' to learn more about interactive tables.';\n",
              "          element.innerHTML = '';\n",
              "          dataTable['output_type'] = 'display_data';\n",
              "          await google.colab.output.renderOutput(dataTable, element);\n",
              "          const docLink = document.createElement('div');\n",
              "          docLink.innerHTML = docLinkHtml;\n",
              "          element.appendChild(docLink);\n",
              "        }\n",
              "      </script>\n",
              "    </div>\n",
              "  </div>\n",
              "  "
            ]
          },
          "metadata": {},
          "execution_count": 7
        }
      ]
    },
    {
      "cell_type": "markdown",
      "source": [
        "**Cleaning texts from unecessary emojis and characters**\n",
        "---\n",
        "\n"
      ],
      "metadata": {
        "id": "lL3EcIgXAQk6"
      }
    },
    {
      "cell_type": "code",
      "source": [
        "df.astype(str).apply(lambda x: x.str.encode('ascii', 'ignore').str.decode('ascii'))\n"
      ],
      "metadata": {
        "colab": {
          "base_uri": "https://localhost:8080/",
          "height": 1000
        },
        "id": "yfT4lI-nzFLI",
        "outputId": "4619501b-2d3f-4127-c564-537a2bdf0c88"
      },
      "execution_count": null,
      "outputs": [
        {
          "output_type": "execute_result",
          "data": {
            "text/plain": [
              "                                  reviewId  \\\n",
              "0     133c8b2e-e8c1-48ff-ac05-0208c96d12c3   \n",
              "1     092311a0-9c51-4aec-adc4-c20b16bfedee   \n",
              "2     4c2b7ce8-f0e1-4740-a996-3b2010e5181e   \n",
              "3     b21bcdf9-53ac-48f3-820c-877ae93bfb99   \n",
              "4     9b6d66ae-223c-4974-987e-821389d06ed4   \n",
              "...                                    ...   \n",
              "6464  6d79099d-9a78-49ae-889a-bf368867a48d   \n",
              "6465  40c7743f-7ba6-46da-bd7c-c55d02d69904   \n",
              "6466  d778a3c8-8293-422e-b976-7e9276c77d6f   \n",
              "6467  9adc52a7-c817-4b43-858c-2a1b2329dd72   \n",
              "6468  053897b5-952c-4269-bef6-29e059a554b2   \n",
              "\n",
              "                                userName  \\\n",
              "0                             Lloyd Lian   \n",
              "1                              Gabby v s   \n",
              "2     Andrej Zivojinovic (Extraordinare)   \n",
              "3                               Eri Chan   \n",
              "4                         izuku midoriya   \n",
              "...                                  ...   \n",
              "6464            John James noval Morgado   \n",
              "6465                                Rich   \n",
              "6466                        reaper playz   \n",
              "6467                          Tina Akins   \n",
              "6468                     Darragh Mckenna   \n",
              "\n",
              "                                              userImage  \\\n",
              "0     https://play-lh.googleusercontent.com/a/AEdFTp...   \n",
              "1     https://play-lh.googleusercontent.com/a-/AD5-W...   \n",
              "2     https://play-lh.googleusercontent.com/a/AEdFTp...   \n",
              "3     https://play-lh.googleusercontent.com/a-/AD5-W...   \n",
              "4     https://play-lh.googleusercontent.com/a-/AD5-W...   \n",
              "...                                                 ...   \n",
              "6464  https://play-lh.googleusercontent.com/a/AEdFTp...   \n",
              "6465  https://play-lh.googleusercontent.com/a-/AD5-W...   \n",
              "6466  https://play-lh.googleusercontent.com/a-/AD5-W...   \n",
              "6467  https://play-lh.googleusercontent.com/a-/AD5-W...   \n",
              "6468  https://play-lh.googleusercontent.com/a-/AD5-W...   \n",
              "\n",
              "                                                content score thumbsUpCount  \\\n",
              "0     I really want to play the game. But the contro...     1             2   \n",
              "1     This game was amazing till I got to the point ...     1             4   \n",
              "2     Will not even start. All I see is Spike Chunso...     1            10   \n",
              "3     Currently I haven't gotten to play the game si...     1             0   \n",
              "4                  I can't even open the app. Trifling.     1             0   \n",
              "...                                                 ...   ...           ...   \n",
              "6464      best game ever first try victory on cure mode     5             0   \n",
              "6465                       I've just destroyed humanity     5             0   \n",
              "6466                                                fun     5             0   \n",
              "6467       Want to feel chills at night? Neither did I.     5             0   \n",
              "6468                                               good     5             0   \n",
              "\n",
              "     reviewCreatedVersion                   at replyContent repliedAt  \\\n",
              "0                   1.0.3  2022-09-23 13:38:04          nan       nan   \n",
              "1                   1.0.3  2022-07-31 13:54:11          nan       nan   \n",
              "2                   1.0.3  2022-07-27 16:42:51          nan       nan   \n",
              "3                     nan  2022-06-20 00:15:33          nan       nan   \n",
              "4                   1.0.2  2022-03-05 05:39:32          nan       nan   \n",
              "...                   ...                  ...          ...       ...   \n",
              "6464                  nan  2022-11-30 01:58:55          nan       nan   \n",
              "6465              1.19.10  2022-11-29 22:47:12          nan       nan   \n",
              "6466              1.19.10  2022-11-29 20:30:21          nan       nan   \n",
              "6467              1.19.10  2022-11-29 18:56:05          nan       nan   \n",
              "6468              1.19.10  2022-11-29 17:06:15          nan       nan   \n",
              "\n",
              "     sortOrder                     appId  \n",
              "0       newest  jp.co.spike_chunsoft.DR1  \n",
              "1       newest  jp.co.spike_chunsoft.DR1  \n",
              "2       newest  jp.co.spike_chunsoft.DR1  \n",
              "3       newest  jp.co.spike_chunsoft.DR1  \n",
              "4       newest  jp.co.spike_chunsoft.DR1  \n",
              "...        ...                       ...  \n",
              "6464    newest    com.miniclip.plagueinc  \n",
              "6465    newest    com.miniclip.plagueinc  \n",
              "6466    newest    com.miniclip.plagueinc  \n",
              "6467    newest    com.miniclip.plagueinc  \n",
              "6468    newest    com.miniclip.plagueinc  \n",
              "\n",
              "[6469 rows x 12 columns]"
            ],
            "text/html": [
              "\n",
              "  <div id=\"df-c041f099-d9a1-43d7-b8fa-3dfcd8dc9d5d\">\n",
              "    <div class=\"colab-df-container\">\n",
              "      <div>\n",
              "<style scoped>\n",
              "    .dataframe tbody tr th:only-of-type {\n",
              "        vertical-align: middle;\n",
              "    }\n",
              "\n",
              "    .dataframe tbody tr th {\n",
              "        vertical-align: top;\n",
              "    }\n",
              "\n",
              "    .dataframe thead th {\n",
              "        text-align: right;\n",
              "    }\n",
              "</style>\n",
              "<table border=\"1\" class=\"dataframe\">\n",
              "  <thead>\n",
              "    <tr style=\"text-align: right;\">\n",
              "      <th></th>\n",
              "      <th>reviewId</th>\n",
              "      <th>userName</th>\n",
              "      <th>userImage</th>\n",
              "      <th>content</th>\n",
              "      <th>score</th>\n",
              "      <th>thumbsUpCount</th>\n",
              "      <th>reviewCreatedVersion</th>\n",
              "      <th>at</th>\n",
              "      <th>replyContent</th>\n",
              "      <th>repliedAt</th>\n",
              "      <th>sortOrder</th>\n",
              "      <th>appId</th>\n",
              "    </tr>\n",
              "  </thead>\n",
              "  <tbody>\n",
              "    <tr>\n",
              "      <th>0</th>\n",
              "      <td>133c8b2e-e8c1-48ff-ac05-0208c96d12c3</td>\n",
              "      <td>Lloyd Lian</td>\n",
              "      <td>https://play-lh.googleusercontent.com/a/AEdFTp...</td>\n",
              "      <td>I really want to play the game. But the contro...</td>\n",
              "      <td>1</td>\n",
              "      <td>2</td>\n",
              "      <td>1.0.3</td>\n",
              "      <td>2022-09-23 13:38:04</td>\n",
              "      <td>nan</td>\n",
              "      <td>nan</td>\n",
              "      <td>newest</td>\n",
              "      <td>jp.co.spike_chunsoft.DR1</td>\n",
              "    </tr>\n",
              "    <tr>\n",
              "      <th>1</th>\n",
              "      <td>092311a0-9c51-4aec-adc4-c20b16bfedee</td>\n",
              "      <td>Gabby v s</td>\n",
              "      <td>https://play-lh.googleusercontent.com/a-/AD5-W...</td>\n",
              "      <td>This game was amazing till I got to the point ...</td>\n",
              "      <td>1</td>\n",
              "      <td>4</td>\n",
              "      <td>1.0.3</td>\n",
              "      <td>2022-07-31 13:54:11</td>\n",
              "      <td>nan</td>\n",
              "      <td>nan</td>\n",
              "      <td>newest</td>\n",
              "      <td>jp.co.spike_chunsoft.DR1</td>\n",
              "    </tr>\n",
              "    <tr>\n",
              "      <th>2</th>\n",
              "      <td>4c2b7ce8-f0e1-4740-a996-3b2010e5181e</td>\n",
              "      <td>Andrej Zivojinovic (Extraordinare)</td>\n",
              "      <td>https://play-lh.googleusercontent.com/a/AEdFTp...</td>\n",
              "      <td>Will not even start. All I see is Spike Chunso...</td>\n",
              "      <td>1</td>\n",
              "      <td>10</td>\n",
              "      <td>1.0.3</td>\n",
              "      <td>2022-07-27 16:42:51</td>\n",
              "      <td>nan</td>\n",
              "      <td>nan</td>\n",
              "      <td>newest</td>\n",
              "      <td>jp.co.spike_chunsoft.DR1</td>\n",
              "    </tr>\n",
              "    <tr>\n",
              "      <th>3</th>\n",
              "      <td>b21bcdf9-53ac-48f3-820c-877ae93bfb99</td>\n",
              "      <td>Eri Chan</td>\n",
              "      <td>https://play-lh.googleusercontent.com/a-/AD5-W...</td>\n",
              "      <td>Currently I haven't gotten to play the game si...</td>\n",
              "      <td>1</td>\n",
              "      <td>0</td>\n",
              "      <td>nan</td>\n",
              "      <td>2022-06-20 00:15:33</td>\n",
              "      <td>nan</td>\n",
              "      <td>nan</td>\n",
              "      <td>newest</td>\n",
              "      <td>jp.co.spike_chunsoft.DR1</td>\n",
              "    </tr>\n",
              "    <tr>\n",
              "      <th>4</th>\n",
              "      <td>9b6d66ae-223c-4974-987e-821389d06ed4</td>\n",
              "      <td>izuku midoriya</td>\n",
              "      <td>https://play-lh.googleusercontent.com/a-/AD5-W...</td>\n",
              "      <td>I can't even open the app. Trifling.</td>\n",
              "      <td>1</td>\n",
              "      <td>0</td>\n",
              "      <td>1.0.2</td>\n",
              "      <td>2022-03-05 05:39:32</td>\n",
              "      <td>nan</td>\n",
              "      <td>nan</td>\n",
              "      <td>newest</td>\n",
              "      <td>jp.co.spike_chunsoft.DR1</td>\n",
              "    </tr>\n",
              "    <tr>\n",
              "      <th>...</th>\n",
              "      <td>...</td>\n",
              "      <td>...</td>\n",
              "      <td>...</td>\n",
              "      <td>...</td>\n",
              "      <td>...</td>\n",
              "      <td>...</td>\n",
              "      <td>...</td>\n",
              "      <td>...</td>\n",
              "      <td>...</td>\n",
              "      <td>...</td>\n",
              "      <td>...</td>\n",
              "      <td>...</td>\n",
              "    </tr>\n",
              "    <tr>\n",
              "      <th>6464</th>\n",
              "      <td>6d79099d-9a78-49ae-889a-bf368867a48d</td>\n",
              "      <td>John James noval Morgado</td>\n",
              "      <td>https://play-lh.googleusercontent.com/a/AEdFTp...</td>\n",
              "      <td>best game ever first try victory on cure mode</td>\n",
              "      <td>5</td>\n",
              "      <td>0</td>\n",
              "      <td>nan</td>\n",
              "      <td>2022-11-30 01:58:55</td>\n",
              "      <td>nan</td>\n",
              "      <td>nan</td>\n",
              "      <td>newest</td>\n",
              "      <td>com.miniclip.plagueinc</td>\n",
              "    </tr>\n",
              "    <tr>\n",
              "      <th>6465</th>\n",
              "      <td>40c7743f-7ba6-46da-bd7c-c55d02d69904</td>\n",
              "      <td>Rich</td>\n",
              "      <td>https://play-lh.googleusercontent.com/a-/AD5-W...</td>\n",
              "      <td>I've just destroyed humanity</td>\n",
              "      <td>5</td>\n",
              "      <td>0</td>\n",
              "      <td>1.19.10</td>\n",
              "      <td>2022-11-29 22:47:12</td>\n",
              "      <td>nan</td>\n",
              "      <td>nan</td>\n",
              "      <td>newest</td>\n",
              "      <td>com.miniclip.plagueinc</td>\n",
              "    </tr>\n",
              "    <tr>\n",
              "      <th>6466</th>\n",
              "      <td>d778a3c8-8293-422e-b976-7e9276c77d6f</td>\n",
              "      <td>reaper playz</td>\n",
              "      <td>https://play-lh.googleusercontent.com/a-/AD5-W...</td>\n",
              "      <td>fun</td>\n",
              "      <td>5</td>\n",
              "      <td>0</td>\n",
              "      <td>1.19.10</td>\n",
              "      <td>2022-11-29 20:30:21</td>\n",
              "      <td>nan</td>\n",
              "      <td>nan</td>\n",
              "      <td>newest</td>\n",
              "      <td>com.miniclip.plagueinc</td>\n",
              "    </tr>\n",
              "    <tr>\n",
              "      <th>6467</th>\n",
              "      <td>9adc52a7-c817-4b43-858c-2a1b2329dd72</td>\n",
              "      <td>Tina Akins</td>\n",
              "      <td>https://play-lh.googleusercontent.com/a-/AD5-W...</td>\n",
              "      <td>Want to feel chills at night? Neither did I.</td>\n",
              "      <td>5</td>\n",
              "      <td>0</td>\n",
              "      <td>1.19.10</td>\n",
              "      <td>2022-11-29 18:56:05</td>\n",
              "      <td>nan</td>\n",
              "      <td>nan</td>\n",
              "      <td>newest</td>\n",
              "      <td>com.miniclip.plagueinc</td>\n",
              "    </tr>\n",
              "    <tr>\n",
              "      <th>6468</th>\n",
              "      <td>053897b5-952c-4269-bef6-29e059a554b2</td>\n",
              "      <td>Darragh Mckenna</td>\n",
              "      <td>https://play-lh.googleusercontent.com/a-/AD5-W...</td>\n",
              "      <td>good</td>\n",
              "      <td>5</td>\n",
              "      <td>0</td>\n",
              "      <td>1.19.10</td>\n",
              "      <td>2022-11-29 17:06:15</td>\n",
              "      <td>nan</td>\n",
              "      <td>nan</td>\n",
              "      <td>newest</td>\n",
              "      <td>com.miniclip.plagueinc</td>\n",
              "    </tr>\n",
              "  </tbody>\n",
              "</table>\n",
              "<p>6469 rows × 12 columns</p>\n",
              "</div>\n",
              "      <button class=\"colab-df-convert\" onclick=\"convertToInteractive('df-c041f099-d9a1-43d7-b8fa-3dfcd8dc9d5d')\"\n",
              "              title=\"Convert this dataframe to an interactive table.\"\n",
              "              style=\"display:none;\">\n",
              "        \n",
              "  <svg xmlns=\"http://www.w3.org/2000/svg\" height=\"24px\"viewBox=\"0 0 24 24\"\n",
              "       width=\"24px\">\n",
              "    <path d=\"M0 0h24v24H0V0z\" fill=\"none\"/>\n",
              "    <path d=\"M18.56 5.44l.94 2.06.94-2.06 2.06-.94-2.06-.94-.94-2.06-.94 2.06-2.06.94zm-11 1L8.5 8.5l.94-2.06 2.06-.94-2.06-.94L8.5 2.5l-.94 2.06-2.06.94zm10 10l.94 2.06.94-2.06 2.06-.94-2.06-.94-.94-2.06-.94 2.06-2.06.94z\"/><path d=\"M17.41 7.96l-1.37-1.37c-.4-.4-.92-.59-1.43-.59-.52 0-1.04.2-1.43.59L10.3 9.45l-7.72 7.72c-.78.78-.78 2.05 0 2.83L4 21.41c.39.39.9.59 1.41.59.51 0 1.02-.2 1.41-.59l7.78-7.78 2.81-2.81c.8-.78.8-2.07 0-2.86zM5.41 20L4 18.59l7.72-7.72 1.47 1.35L5.41 20z\"/>\n",
              "  </svg>\n",
              "      </button>\n",
              "      \n",
              "  <style>\n",
              "    .colab-df-container {\n",
              "      display:flex;\n",
              "      flex-wrap:wrap;\n",
              "      gap: 12px;\n",
              "    }\n",
              "\n",
              "    .colab-df-convert {\n",
              "      background-color: #E8F0FE;\n",
              "      border: none;\n",
              "      border-radius: 50%;\n",
              "      cursor: pointer;\n",
              "      display: none;\n",
              "      fill: #1967D2;\n",
              "      height: 32px;\n",
              "      padding: 0 0 0 0;\n",
              "      width: 32px;\n",
              "    }\n",
              "\n",
              "    .colab-df-convert:hover {\n",
              "      background-color: #E2EBFA;\n",
              "      box-shadow: 0px 1px 2px rgba(60, 64, 67, 0.3), 0px 1px 3px 1px rgba(60, 64, 67, 0.15);\n",
              "      fill: #174EA6;\n",
              "    }\n",
              "\n",
              "    [theme=dark] .colab-df-convert {\n",
              "      background-color: #3B4455;\n",
              "      fill: #D2E3FC;\n",
              "    }\n",
              "\n",
              "    [theme=dark] .colab-df-convert:hover {\n",
              "      background-color: #434B5C;\n",
              "      box-shadow: 0px 1px 3px 1px rgba(0, 0, 0, 0.15);\n",
              "      filter: drop-shadow(0px 1px 2px rgba(0, 0, 0, 0.3));\n",
              "      fill: #FFFFFF;\n",
              "    }\n",
              "  </style>\n",
              "\n",
              "      <script>\n",
              "        const buttonEl =\n",
              "          document.querySelector('#df-c041f099-d9a1-43d7-b8fa-3dfcd8dc9d5d button.colab-df-convert');\n",
              "        buttonEl.style.display =\n",
              "          google.colab.kernel.accessAllowed ? 'block' : 'none';\n",
              "\n",
              "        async function convertToInteractive(key) {\n",
              "          const element = document.querySelector('#df-c041f099-d9a1-43d7-b8fa-3dfcd8dc9d5d');\n",
              "          const dataTable =\n",
              "            await google.colab.kernel.invokeFunction('convertToInteractive',\n",
              "                                                     [key], {});\n",
              "          if (!dataTable) return;\n",
              "\n",
              "          const docLinkHtml = 'Like what you see? Visit the ' +\n",
              "            '<a target=\"_blank\" href=https://colab.research.google.com/notebooks/data_table.ipynb>data table notebook</a>'\n",
              "            + ' to learn more about interactive tables.';\n",
              "          element.innerHTML = '';\n",
              "          dataTable['output_type'] = 'display_data';\n",
              "          await google.colab.output.renderOutput(dataTable, element);\n",
              "          const docLink = document.createElement('div');\n",
              "          docLink.innerHTML = docLinkHtml;\n",
              "          element.appendChild(docLink);\n",
              "        }\n",
              "      </script>\n",
              "    </div>\n",
              "  </div>\n",
              "  "
            ]
          },
          "metadata": {},
          "execution_count": 8
        }
      ]
    },
    {
      "cell_type": "code",
      "source": [
        "df_clean = use_df[(use_df['content']!=' ')&(use_df['content']!='')]\n",
        "df_clean.shape,use_df.shape"
      ],
      "metadata": {
        "colab": {
          "base_uri": "https://localhost:8080/"
        },
        "id": "5s0ELe-TzIax",
        "outputId": "50fc7344-2a20-4944-9f07-738d259a7472"
      },
      "execution_count": null,
      "outputs": [
        {
          "output_type": "execute_result",
          "data": {
            "text/plain": [
              "((6469, 4), (6469, 4))"
            ]
          },
          "metadata": {},
          "execution_count": 9
        }
      ]
    },
    {
      "cell_type": "code",
      "source": [
        "df_clean['reviewId'] = df['reviewId'].fillna(0)\n",
        "df_clean['content'] = df['content'].fillna('Asiap')\n",
        "df_clean['score'] = df['score'].fillna(0)\n"
      ],
      "metadata": {
        "id": "O3Xz2S5bA-Bh"
      },
      "execution_count": null,
      "outputs": []
    },
    {
      "cell_type": "markdown",
      "source": [
        "**Word Level Analysis**"
      ],
      "metadata": {
        "id": "FjYRpFnvyaUo"
      }
    },
    {
      "cell_type": "code",
      "source": [
        "def showmostfrequentwords(text,no_of_words):\n",
        "    \n",
        "    allwords = ' '.join([char for char in text])\n",
        "    allwords = allwords.split()\n",
        "    \n",
        "\n",
        "    fdist = nltk.FreqDist(allwords)\n",
        "    \n",
        "    wordsdf = pd.DataFrame({'word':list(fdist.keys()),'count':list(fdist.values())})\n",
        "    \n",
        "    df = wordsdf.nlargest(columns=\"count\",n = no_of_words)\n",
        "    \n",
        "    plt.figure(figsize=(7,5))\n",
        "    ax = sn.barplot(data=df,x = 'count',y = 'word')\n",
        "    ax.set(ylabel = 'Word')\n",
        "    plt.show()\n",
        "    \n",
        "    return wordsdf\n",
        "    \n",
        "wordsdf = showmostfrequentwords(df_clean['content'],25)"
      ],
      "metadata": {
        "colab": {
          "base_uri": "https://localhost:8080/",
          "height": 334
        },
        "id": "KX3IoKt6zNsW",
        "outputId": "1e6e3773-3b70-4b09-a2d7-3ee38b84ec52"
      },
      "execution_count": null,
      "outputs": [
        {
          "output_type": "display_data",
          "data": {
            "text/plain": [
              "<Figure size 504x360 with 1 Axes>"
            ],
            "image/png": "[encoded data removed]"
          },
          "metadata": {
            "needs_background": "light"
          }
        }
      ]
    },
    {
      "cell_type": "markdown",
      "source": [
        "**Removal of Stopwords**"
      ],
      "metadata": {
        "id": "G1uk9-KWk1sM"
      }
    },
    {
      "cell_type": "code",
      "source": [
        "nltk.download('stopwords')\n",
        "from nltk.corpus import stopwords\n",
        "stop_words = set(stopwords.words('english'))\n",
        "\n",
        "\n",
        "def removestopwords(text):\n",
        "    \n",
        "    \n",
        "    removedstopword = [word for word in text.split() if word not in stop_words]\n",
        "    return ' '.join(removedstopword)\n",
        "\n",
        "df_clean['content'] = df_clean['content'].apply(lambda x:removestopwords(x))\n",
        "df_clean['content'].iloc[1]"
      ],
      "metadata": {
        "colab": {
          "base_uri": "https://localhost:8080/",
          "height": 88
        },
        "id": "38yeOw439yoS",
        "outputId": "26be3fd3-3254-48f7-bd4d-0cdda7942cce"
      },
      "execution_count": null,
      "outputs": [
        {
          "output_type": "stream",
          "name": "stderr",
          "text": [
            "[nltk_data] Downloading package stopwords to /root/nltk_data...\n",
            "[nltk_data]   Package stopwords is already up-to-date!\n"
          ]
        },
        {
          "output_type": "execute_result",
          "data": {
            "text/plain": [
              "'This game amazing till I got point summary climax class trials evidence last class trial class trial evidence I need current class trial summarize information I need anymore information I need have.'"
            ],
            "application/vnd.google.colaboratory.intrinsic+json": {
              "type": "string"
            }
          },
          "metadata": {},
          "execution_count": 15
        }
      ]
    },
    {
      "cell_type": "markdown",
      "source": [
        "**Lemmatizing the words**"
      ],
      "metadata": {
        "id": "DhJvFljik_tL"
      }
    },
    {
      "cell_type": "code",
      "source": [
        "nltk.download('wordnet')\n",
        "from nltk.stem import WordNetLemmatizer\n",
        "\n",
        "lemma=WordNetLemmatizer()\n",
        "\n",
        "def lematizing(sentence):\n",
        "    stemSentence = \"\"\n",
        "    for word in sentence.split():\n",
        "        stem = lemma.lemmatize(word)\n",
        "        stemSentence += stem\n",
        "        stemSentence += \" \"\n",
        "    stemSentence = stemSentence.strip()\n",
        "    return stemSentence\n",
        "\n",
        "df_clean['content'] = df_clean['content'].apply(lambda x:removestopwords(x))\n",
        "df_clean['content'].iloc[1]"
      ],
      "metadata": {
        "colab": {
          "base_uri": "https://localhost:8080/",
          "height": 70
        },
        "id": "WYG2mbhw_xHB",
        "outputId": "40a5b626-04ec-4dc1-e9e0-03264c76fe61"
      },
      "execution_count": null,
      "outputs": [
        {
          "output_type": "stream",
          "name": "stderr",
          "text": [
            "[nltk_data] Downloading package wordnet to /root/nltk_data...\n"
          ]
        },
        {
          "output_type": "execute_result",
          "data": {
            "text/plain": [
              "'This game amazing till I got point summary climax class trials evidence last class trial class trial evidence I need current class trial summarize information I need anymore information I need have.'"
            ],
            "application/vnd.google.colaboratory.intrinsic+json": {
              "type": "string"
            }
          },
          "metadata": {},
          "execution_count": 14
        }
      ]
    },
    {
      "cell_type": "markdown",
      "source": [
        "**Stemming Texts**"
      ],
      "metadata": {
        "id": "kqD_Ltx3lET8"
      }
    },
    {
      "cell_type": "code",
      "source": [
        "from nltk.stem import PorterStemmer\n",
        "stemmer = PorterStemmer()\n",
        "\n",
        "def stemming(sentence):\n",
        "    \n",
        "    stemmed_sentence = \"\"\n",
        "    for word in sentence.split():\n",
        "        stem = stemmer.stem(word)\n",
        "        stemmed_sentence+=stem\n",
        "        stemmed_sentence+=\" \"\n",
        "        \n",
        "    stemmed_sentence = stemmed_sentence.strip()\n",
        "    return stemmed_sentence\n",
        "df_clean['content'] = df_clean['content'].apply(lambda x:removestopwords(x))\n",
        "df_clean['content'].iloc[1]"
      ],
      "metadata": {
        "colab": {
          "base_uri": "https://localhost:8080/",
          "height": 53
        },
        "id": "Zps-uOTE_7Hv",
        "outputId": "9506c190-8b13-4fe9-f908-c3ce27afbab1"
      },
      "execution_count": null,
      "outputs": [
        {
          "output_type": "execute_result",
          "data": {
            "text/plain": [
              "'This game amazing till I got point summary climax class trials evidence last class trial class trial evidence I need current class trial summarize information I need anymore information I need have.'"
            ],
            "application/vnd.google.colaboratory.intrinsic+json": {
              "type": "string"
            }
          },
          "metadata": {},
          "execution_count": 13
        }
      ]
    },
    {
      "cell_type": "markdown",
      "source": [
        "**Using Count-Vectorizer**"
      ],
      "metadata": {
        "id": "OF7P8GhlEtO7"
      }
    },
    {
      "cell_type": "code",
      "source": [
        "\n",
        "data = df_clean[['reviewId', 'content', 'score']]\n",
        "\n",
        "count_vec = CountVectorizer(max_df=0.90,min_df=2,\n",
        "                           max_features=1000,stop_words='english')\n",
        "\n",
        "bagofword_vec = count_vec.fit_transform(data['content'])\n",
        "bagofword_vec"
      ],
      "metadata": {
        "colab": {
          "base_uri": "https://localhost:8080/"
        },
        "id": "NE-HoDmGAHbX",
        "outputId": "4fe2cf8c-54fc-4c8b-8267-5392bc7ffaa1"
      },
      "execution_count": null,
      "outputs": [
        {
          "output_type": "execute_result",
          "data": {
            "text/plain": [
              "<6469x1000 sparse matrix of type '<class 'numpy.int64'>'\n",
              "\twith 44407 stored elements in Compressed Sparse Row format>"
            ]
          },
          "metadata": {},
          "execution_count": 16
        }
      ]
    },
    {
      "cell_type": "code",
      "source": [
        "test = df_clean['score']\n",
        "X_train, X_test, y_train, y_test = train_test_split(bagofword_vec,test,\n",
        "                                                    test_size=0.2)\n",
        "X_train.shape,X_test.shape"
      ],
      "metadata": {
        "colab": {
          "base_uri": "https://localhost:8080/"
        },
        "id": "BhMZrsl-Bdtl",
        "outputId": "4ba240b5-c94e-4ac4-ceb9-cabb354b6be5"
      },
      "execution_count": null,
      "outputs": [
        {
          "output_type": "execute_result",
          "data": {
            "text/plain": [
              "((5175, 1000), (1294, 1000))"
            ]
          },
          "metadata": {},
          "execution_count": 17
        }
      ]
    },
    {
      "cell_type": "code",
      "source": [
        "mb = MultinomialNB()\n",
        "mb.fit(X_train,y_train)\n",
        "mbpred = mb.predict(X_test)\n",
        "print(metrics.accuracy_score(y_test,mbpred))"
      ],
      "metadata": {
        "colab": {
          "base_uri": "https://localhost:8080/"
        },
        "id": "hHMQCz1LBy8J",
        "outputId": "d389ca53-ad44-408a-8ef9-aa9f199694c4"
      },
      "execution_count": null,
      "outputs": [
        {
          "output_type": "stream",
          "name": "stdout",
          "text": [
            "0.3979907264296754\n"
          ]
        }
      ]
    },
    {
      "cell_type": "code",
      "source": [
        "rf = RandomForestClassifier()\n",
        "rf.fit(X_train,y_train)\n",
        "rf_pred = rf.predict(X_test)\n",
        "print(metrics.accuracy_score(y_test,rf_pred))"
      ],
      "metadata": {
        "colab": {
          "base_uri": "https://localhost:8080/"
        },
        "id": "v-wDGBMZB4bG",
        "outputId": "d439f34d-bbf7-4fbd-bbdd-20dcc9126098"
      },
      "execution_count": null,
      "outputs": [
        {
          "output_type": "stream",
          "name": "stdout",
          "text": [
            "0.38871715610510044\n"
          ]
        }
      ]
    },
    {
      "cell_type": "markdown",
      "source": [
        "**USING TF-IDF**"
      ],
      "metadata": {
        "id": "Fi8x8KWGvC3y"
      }
    },
    {
      "cell_type": "code",
      "source": [
        "from sklearn.preprocessing import LabelEncoder\n",
        "le = LabelEncoder()\n",
        "\n",
        "data = df_clean[['reviewId', 'content', 'score']]\n",
        "\n",
        "y=data['score']\n",
        "\n",
        "X_train,X_test,y_train,y_test = train_test_split(df_clean['content']\n",
        "                                                ,y,test_size=0.2,\n",
        "                                                random_state=557)\n",
        "\n",
        "X_train.shape,X_test.shape"
      ],
      "metadata": {
        "id": "ZOWQrxAzB7Cl",
        "colab": {
          "base_uri": "https://localhost:8080/"
        },
        "outputId": "e82c1a49-f20d-4a65-f930-c6b83bbecd99"
      },
      "execution_count": null,
      "outputs": [
        {
          "output_type": "execute_result",
          "data": {
            "text/plain": [
              "((5175,), (1294,))"
            ]
          },
          "metadata": {},
          "execution_count": 20
        }
      ]
    },
    {
      "cell_type": "code",
      "source": [
        "#performing the TF-IDF\n",
        "tfidf_vectorizer = TfidfVectorizer(max_df=0.8, max_features=10000)\n",
        "xtrain_tfidf = tfidf_vectorizer.fit_transform(X_train.values.astype('U'))\n",
        "xtest_tfidf = tfidf_vectorizer.transform(X_test.values.astype('U'))"
      ],
      "metadata": {
        "id": "AXiNfUoplPzs"
      },
      "execution_count": null,
      "outputs": []
    },
    {
      "cell_type": "code",
      "source": [
        "dtree = DecisionTreeClassifier()\n",
        "dtree.fit(xtrain_tfidf,y_train)\n",
        "dtree_pred = dtree.predict(xtest_tfidf)\n",
        "metrics.accuracy_score(y_test,dtree_pred)"
      ],
      "metadata": {
        "colab": {
          "base_uri": "https://localhost:8080/"
        },
        "id": "dmM6ZT_tlT0B",
        "outputId": "c426aa99-44a2-4e9d-994b-2517f068c6f5"
      },
      "execution_count": null,
      "outputs": [
        {
          "output_type": "execute_result",
          "data": {
            "text/plain": [
              "0.34698608964451316"
            ]
          },
          "metadata": {},
          "execution_count": 22
        }
      ]
    },
    {
      "cell_type": "code",
      "source": [
        "rf = RandomForestClassifier()\n",
        "rf.fit(xtrain_tfidf,y_train)\n",
        "rf_pred = rf.predict(xtest_tfidf)\n",
        "metrics.accuracy_score(y_test,rf_pred)"
      ],
      "metadata": {
        "colab": {
          "base_uri": "https://localhost:8080/"
        },
        "id": "gbbb4xlilflj",
        "outputId": "a0a09da9-63af-43cb-830a-99e747a2503a"
      },
      "execution_count": null,
      "outputs": [
        {
          "output_type": "execute_result",
          "data": {
            "text/plain": [
              "0.41576506955177744"
            ]
          },
          "metadata": {},
          "execution_count": 23
        }
      ]
    },
    {
      "cell_type": "code",
      "source": [
        "lr = LogisticRegression()\n",
        "lr.fit(xtrain_tfidf,y_train)\n",
        "lr_pred = lr.predict(xtest_tfidf)\n",
        "metrics.accuracy_score(y_test,lr_pred)"
      ],
      "metadata": {
        "colab": {
          "base_uri": "https://localhost:8080/"
        },
        "id": "bZ_slwxvoi_a",
        "outputId": "242ba930-c395-4f5f-f119-65c932824f44"
      },
      "execution_count": null,
      "outputs": [
        {
          "output_type": "execute_result",
          "data": {
            "text/plain": [
              "0.42890262751159197"
            ]
          },
          "metadata": {},
          "execution_count": 24
        }
      ]
    },
    {
      "cell_type": "markdown",
      "source": [
        "**Using TF-IDF X NFM**"
      ],
      "metadata": {
        "id": "G5ljLigEoohc"
      }
    },
    {
      "cell_type": "markdown",
      "source": [
        "\n",
        "\n",
        "*   NFM is very efficient method to select the most vital information in  the training model. \n",
        "*   We using the NFM in the following steps:\n",
        "  *   Converting the raw texts into Vectors using TF-IDF vectorizer.\n",
        "  *   Converting Vectors to NFM forms, splitting the matrix of NXM into NXP and PXM.\n",
        "  *   N = total numbers of sentences, P = numbers of the topics, M = numbers of terms in each sentences.\n",
        "  *   Number of topics and n_iter, can be tuned using GridSearch and RandomizedSearch.\n",
        "  *   This would be using n_topics as 5 and n_iters as 500, can be changed according to needs.\n",
        "\n",
        "\n",
        "\n",
        "\n",
        "\n",
        "\n",
        "\n",
        "\n",
        "\n"
      ],
      "metadata": {
        "id": "8Eby5gv7pPLd"
      }
    },
    {
      "cell_type": "code",
      "source": [
        "text = list(df_clean['content'])\n",
        "print(len(text))"
      ],
      "metadata": {
        "colab": {
          "base_uri": "https://localhost:8080/"
        },
        "id": "WKxUOPSkrpDd",
        "outputId": "d21aa11c-8f44-4ac5-fb51-d1c4158a2485"
      },
      "execution_count": null,
      "outputs": [
        {
          "output_type": "stream",
          "name": "stdout",
          "text": [
            "6469\n"
          ]
        }
      ]
    },
    {
      "cell_type": "code",
      "source": [
        "vec = TfidfVectorizer()\n",
        "tfd = vec.fit_transform(text)"
      ],
      "metadata": {
        "id": "myrHV8lxrsTn"
      },
      "execution_count": null,
      "outputs": []
    },
    {
      "cell_type": "code",
      "source": [
        "from sklearn.decomposition import NMF"
      ],
      "metadata": {
        "id": "gCdZBCOkrw1S"
      },
      "execution_count": null,
      "outputs": []
    },
    {
      "cell_type": "code",
      "source": [
        "num_topics = 5\n",
        "nmf = NMF(n_components=num_topics, random_state=50, max_iter=500)"
      ],
      "metadata": {
        "id": "7TT4S7Tkrzvu"
      },
      "execution_count": null,
      "outputs": []
    },
    {
      "cell_type": "code",
      "source": [
        "W1 = nmf.fit_transform(tfd)\n",
        "H1 = nmf.components_"
      ],
      "metadata": {
        "id": "MDfIJ16fr2n-"
      },
      "execution_count": null,
      "outputs": []
    },
    {
      "cell_type": "code",
      "source": [
        "df_new = pd.DataFrame({'text':text, 'label':[np.argmax(i) for i in W1]})\n",
        "df_new"
      ],
      "metadata": {
        "colab": {
          "base_uri": "https://localhost:8080/",
          "height": 424
        },
        "id": "QLqDcElCr5No",
        "outputId": "7de5b18b-d080-4717-d252-2212715d7946"
      },
      "execution_count": null,
      "outputs": [
        {
          "output_type": "execute_result",
          "data": {
            "text/plain": [
              "                                                   text  label\n",
              "0     I really want play game. But control utterly a...      1\n",
              "1     This game amazing till I got point summary cli...      1\n",
              "2     Will even start. All I see Spike Chunsoft that...      1\n",
              "3     Currently I gotten play game since everytime I...      1\n",
              "4                      I can't even open app. Trifling.      1\n",
              "...                                                 ...    ...\n",
              "6464         best game ever first try victory cure mode      1\n",
              "6465                            I've destroyed humanity      1\n",
              "6466                                               fun🗿      3\n",
              "6467                 Want feel chills night? Neither I.      1\n",
              "6468                                               good      0\n",
              "\n",
              "[6469 rows x 2 columns]"
            ],
            "text/html": [
              "\n",
              "  <div id=\"df-5ffc8e8b-a9ef-4908-a26c-3b23e686f2da\">\n",
              "    <div class=\"colab-df-container\">\n",
              "      <div>\n",
              "<style scoped>\n",
              "    .dataframe tbody tr th:only-of-type {\n",
              "        vertical-align: middle;\n",
              "    }\n",
              "\n",
              "    .dataframe tbody tr th {\n",
              "        vertical-align: top;\n",
              "    }\n",
              "\n",
              "    .dataframe thead th {\n",
              "        text-align: right;\n",
              "    }\n",
              "</style>\n",
              "<table border=\"1\" class=\"dataframe\">\n",
              "  <thead>\n",
              "    <tr style=\"text-align: right;\">\n",
              "      <th></th>\n",
              "      <th>text</th>\n",
              "      <th>label</th>\n",
              "    </tr>\n",
              "  </thead>\n",
              "  <tbody>\n",
              "    <tr>\n",
              "      <th>0</th>\n",
              "      <td>I really want play game. But control utterly a...</td>\n",
              "      <td>1</td>\n",
              "    </tr>\n",
              "    <tr>\n",
              "      <th>1</th>\n",
              "      <td>This game amazing till I got point summary cli...</td>\n",
              "      <td>1</td>\n",
              "    </tr>\n",
              "    <tr>\n",
              "      <th>2</th>\n",
              "      <td>Will even start. All I see Spike Chunsoft that...</td>\n",
              "      <td>1</td>\n",
              "    </tr>\n",
              "    <tr>\n",
              "      <th>3</th>\n",
              "      <td>Currently I gotten play game since everytime I...</td>\n",
              "      <td>1</td>\n",
              "    </tr>\n",
              "    <tr>\n",
              "      <th>4</th>\n",
              "      <td>I can't even open app. Trifling.</td>\n",
              "      <td>1</td>\n",
              "    </tr>\n",
              "    <tr>\n",
              "      <th>...</th>\n",
              "      <td>...</td>\n",
              "      <td>...</td>\n",
              "    </tr>\n",
              "    <tr>\n",
              "      <th>6464</th>\n",
              "      <td>best game ever first try victory cure mode</td>\n",
              "      <td>1</td>\n",
              "    </tr>\n",
              "    <tr>\n",
              "      <th>6465</th>\n",
              "      <td>I've destroyed humanity</td>\n",
              "      <td>1</td>\n",
              "    </tr>\n",
              "    <tr>\n",
              "      <th>6466</th>\n",
              "      <td>fun🗿</td>\n",
              "      <td>3</td>\n",
              "    </tr>\n",
              "    <tr>\n",
              "      <th>6467</th>\n",
              "      <td>Want feel chills night? Neither I.</td>\n",
              "      <td>1</td>\n",
              "    </tr>\n",
              "    <tr>\n",
              "      <th>6468</th>\n",
              "      <td>good</td>\n",
              "      <td>0</td>\n",
              "    </tr>\n",
              "  </tbody>\n",
              "</table>\n",
              "<p>6469 rows × 2 columns</p>\n",
              "</div>\n",
              "      <button class=\"colab-df-convert\" onclick=\"convertToInteractive('df-5ffc8e8b-a9ef-4908-a26c-3b23e686f2da')\"\n",
              "              title=\"Convert this dataframe to an interactive table.\"\n",
              "              style=\"display:none;\">\n",
              "        \n",
              "  <svg xmlns=\"http://www.w3.org/2000/svg\" height=\"24px\"viewBox=\"0 0 24 24\"\n",
              "       width=\"24px\">\n",
              "    <path d=\"M0 0h24v24H0V0z\" fill=\"none\"/>\n",
              "    <path d=\"M18.56 5.44l.94 2.06.94-2.06 2.06-.94-2.06-.94-.94-2.06-.94 2.06-2.06.94zm-11 1L8.5 8.5l.94-2.06 2.06-.94-2.06-.94L8.5 2.5l-.94 2.06-2.06.94zm10 10l.94 2.06.94-2.06 2.06-.94-2.06-.94-.94-2.06-.94 2.06-2.06.94z\"/><path d=\"M17.41 7.96l-1.37-1.37c-.4-.4-.92-.59-1.43-.59-.52 0-1.04.2-1.43.59L10.3 9.45l-7.72 7.72c-.78.78-.78 2.05 0 2.83L4 21.41c.39.39.9.59 1.41.59.51 0 1.02-.2 1.41-.59l7.78-7.78 2.81-2.81c.8-.78.8-2.07 0-2.86zM5.41 20L4 18.59l7.72-7.72 1.47 1.35L5.41 20z\"/>\n",
              "  </svg>\n",
              "      </button>\n",
              "      \n",
              "  <style>\n",
              "    .colab-df-container {\n",
              "      display:flex;\n",
              "      flex-wrap:wrap;\n",
              "      gap: 12px;\n",
              "    }\n",
              "\n",
              "    .colab-df-convert {\n",
              "      background-color: #E8F0FE;\n",
              "      border: none;\n",
              "      border-radius: 50%;\n",
              "      cursor: pointer;\n",
              "      display: none;\n",
              "      fill: #1967D2;\n",
              "      height: 32px;\n",
              "      padding: 0 0 0 0;\n",
              "      width: 32px;\n",
              "    }\n",
              "\n",
              "    .colab-df-convert:hover {\n",
              "      background-color: #E2EBFA;\n",
              "      box-shadow: 0px 1px 2px rgba(60, 64, 67, 0.3), 0px 1px 3px 1px rgba(60, 64, 67, 0.15);\n",
              "      fill: #174EA6;\n",
              "    }\n",
              "\n",
              "    [theme=dark] .colab-df-convert {\n",
              "      background-color: #3B4455;\n",
              "      fill: #D2E3FC;\n",
              "    }\n",
              "\n",
              "    [theme=dark] .colab-df-convert:hover {\n",
              "      background-color: #434B5C;\n",
              "      box-shadow: 0px 1px 3px 1px rgba(0, 0, 0, 0.15);\n",
              "      filter: drop-shadow(0px 1px 2px rgba(0, 0, 0, 0.3));\n",
              "      fill: #FFFFFF;\n",
              "    }\n",
              "  </style>\n",
              "\n",
              "      <script>\n",
              "        const buttonEl =\n",
              "          document.querySelector('#df-5ffc8e8b-a9ef-4908-a26c-3b23e686f2da button.colab-df-convert');\n",
              "        buttonEl.style.display =\n",
              "          google.colab.kernel.accessAllowed ? 'block' : 'none';\n",
              "\n",
              "        async function convertToInteractive(key) {\n",
              "          const element = document.querySelector('#df-5ffc8e8b-a9ef-4908-a26c-3b23e686f2da');\n",
              "          const dataTable =\n",
              "            await google.colab.kernel.invokeFunction('convertToInteractive',\n",
              "                                                     [key], {});\n",
              "          if (!dataTable) return;\n",
              "\n",
              "          const docLinkHtml = 'Like what you see? Visit the ' +\n",
              "            '<a target=\"_blank\" href=https://colab.research.google.com/notebooks/data_table.ipynb>data table notebook</a>'\n",
              "            + ' to learn more about interactive tables.';\n",
              "          element.innerHTML = '';\n",
              "          dataTable['output_type'] = 'display_data';\n",
              "          await google.colab.output.renderOutput(dataTable, element);\n",
              "          const docLink = document.createElement('div');\n",
              "          docLink.innerHTML = docLinkHtml;\n",
              "          element.appendChild(docLink);\n",
              "        }\n",
              "      </script>\n",
              "    </div>\n",
              "  </div>\n",
              "  "
            ]
          },
          "metadata": {},
          "execution_count": 30
        }
      ]
    },
    {
      "cell_type": "code",
      "source": [
        "train,test = train_test_split(df_new, train_size=0.7, random_state=25, stratify=df_new.label)\n",
        "\n",
        "X_train = train.text\n",
        "y_train = train.label\n",
        "\n",
        "X_test = test.text\n",
        "y_test = test.label"
      ],
      "metadata": {
        "id": "Pr-OdNZzr_hv"
      },
      "execution_count": null,
      "outputs": []
    },
    {
      "cell_type": "code",
      "source": [
        "vec = TfidfVectorizer()\n",
        "X_train_tfidf = vec.fit_transform(X_train)\n",
        "X_test_tfidf = vec.transform(X_test)"
      ],
      "metadata": {
        "id": "UGZQAyA4sBsv"
      },
      "execution_count": null,
      "outputs": []
    },
    {
      "cell_type": "code",
      "source": [
        "dt = DecisionTreeClassifier()\n",
        "dt.fit(X_train_tfidf,y_train)\n",
        "dt_pred = dt.predict(X_test_tfidf)\n",
        "print(metrics.classification_report(y_test,dt_pred))"
      ],
      "metadata": {
        "colab": {
          "base_uri": "https://localhost:8080/"
        },
        "id": "ujtitzRfsE7H",
        "outputId": "c47eb3ea-9542-42cd-a7e6-e53c3d07b1dd"
      },
      "execution_count": null,
      "outputs": [
        {
          "output_type": "stream",
          "name": "stdout",
          "text": [
            "              precision    recall  f1-score   support\n",
            "\n",
            "           0       0.68      0.97      0.80       243\n",
            "           1       0.97      0.88      0.93      1335\n",
            "           2       0.97      0.98      0.98        62\n",
            "           3       0.86      0.90      0.88       167\n",
            "           4       0.80      0.85      0.83       134\n",
            "\n",
            "    accuracy                           0.90      1941\n",
            "   macro avg       0.86      0.92      0.88      1941\n",
            "weighted avg       0.91      0.90      0.90      1941\n",
            "\n"
          ]
        }
      ]
    },
    {
      "cell_type": "code",
      "source": [
        "rf = RandomForestClassifier()\n",
        "rf.fit(X_train_tfidf,y_train)\n",
        "rf_pred = rf.predict(X_test_tfidf)\n",
        "print(metrics.classification_report(y_test,rf_pred))"
      ],
      "metadata": {
        "colab": {
          "base_uri": "https://localhost:8080/"
        },
        "id": "hzU9Fsq6sHO7",
        "outputId": "16920482-8f20-4869-db7c-c2ae2133b04a"
      },
      "execution_count": null,
      "outputs": [
        {
          "output_type": "stream",
          "name": "stdout",
          "text": [
            "              precision    recall  f1-score   support\n",
            "\n",
            "           0       0.70      0.88      0.78       243\n",
            "           1       0.93      0.93      0.93      1335\n",
            "           2       1.00      0.89      0.94        62\n",
            "           3       0.92      0.78      0.84       167\n",
            "           4       0.94      0.70      0.80       134\n",
            "\n",
            "    accuracy                           0.90      1941\n",
            "   macro avg       0.90      0.84      0.86      1941\n",
            "weighted avg       0.90      0.90      0.90      1941\n",
            "\n"
          ]
        }
      ]
    }
  ]
}